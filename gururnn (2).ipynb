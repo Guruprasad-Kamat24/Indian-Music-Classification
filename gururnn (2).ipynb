{
  "nbformat": 4,
  "nbformat_minor": 0,
  "metadata": {
    "colab": {
      "provenance": [],
      "gpuType": "T4"
    },
    "kernelspec": {
      "name": "python3",
      "display_name": "Python 3"
    },
    "language_info": {
      "name": "python"
    },
    "accelerator": "GPU",
    "gpuClass": "standard"
  },
  "cells": [
    {
      "cell_type": "code",
      "source": [
        "from google.colab import drive\n",
        "drive.mount('/content/drive')"
      ],
      "metadata": {
        "colab": {
          "base_uri": "https://localhost:8080/"
        },
        "id": "WX3WUWb91oat",
        "outputId": "dc7cb948-b597-45aa-a43c-e41c29007acd"
      },
      "execution_count": null,
      "outputs": [
        {
          "output_type": "stream",
          "name": "stdout",
          "text": [
            "Drive already mounted at /content/drive; to attempt to forcibly remount, call drive.mount(\"/content/drive\", force_remount=True).\n"
          ]
        }
      ]
    },
    {
      "cell_type": "code",
      "execution_count": null,
      "metadata": {
        "id": "7mM1gO-QDzHR"
      },
      "outputs": [],
      "source": [
        "import json\n",
        "import os\n",
        "import math\n",
        "import librosa\n",
        "\n",
        "DATASET_PATH = \"/content/drive/MyDrive/Music Instrument/Indian Music Inst\"\n",
        "JSON_PATH = \"/content/drive/MyDrive/Music Instrument/data_10.json\"\n",
        "SAMPLE_RATE = 22050\n",
        "TRACK_DURATION = 30 # measured in seconds\n",
        "SAMPLES_PER_TRACK = SAMPLE_RATE * TRACK_DURATION\n",
        "\n",
        "\n",
        "def save_mfcc(dataset_path, json_path, num_mfcc=13, n_fft=2048, hop_length=512, num_segments=5):\n",
        "\n",
        "\n",
        "    # dictionary to store mapping, labels, and MFCCs\n",
        "    data = {\n",
        "        \"mapping\": [],\n",
        "        \"labels\": [],\n",
        "        \"mfcc\": []\n",
        "    }\n",
        "\n",
        "    samples_per_segment = int(SAMPLES_PER_TRACK / num_segments)\n",
        "    num_mfcc_vectors_per_segment = math.ceil(samples_per_segment / hop_length)\n",
        "\n",
        "    # loop through all genre sub-folder\n",
        "    for i, (dirpath, dirnames, filenames) in enumerate(os.walk(dataset_path)):\n",
        "\n",
        "        # ensure we're processing a genre sub-folder level\n",
        "        if dirpath is not dataset_path:\n",
        "\n",
        "            # save genre label (i.e., sub-folder name) in the mapping\n",
        "            semantic_label = dirpath.split(\"/\")[-1]\n",
        "            data[\"mapping\"].append(semantic_label)\n",
        "            print(\"\\nProcessing: {}\".format(semantic_label))\n",
        "\n",
        "            # process all audio files in genre sub-dir\n",
        "            for f in filenames:\n",
        "\n",
        "\t\t# load audio file\n",
        "                file_path = os.path.join(dirpath, f)\n",
        "                signal, sample_rate = librosa.load(file_path)\n",
        "\n",
        "                # process all segments of audio file\n",
        "                for d in range(num_segments):\n",
        "\n",
        "                    # calculate start and finish sample for current segment\n",
        "                    start = samples_per_segment * d\n",
        "                    finish = start + samples_per_segment\n",
        "\n",
        "                    # extract mfcc\n",
        "                    # mfcc = librosa.feature.mfcc(signal, sample_rate, n_mfcc=num_mfcc)\n",
        "                    mfcc=librosa.feature.mfcc(y=signal[start:finish], sr=sample_rate, n_mfcc=40)\n",
        "                    mfcc = mfcc.T\n",
        "\n",
        "                    # store only mfcc feature with expected number of vectors\n",
        "                    if len(mfcc) == num_mfcc_vectors_per_segment:\n",
        "                        data[\"mfcc\"].append(mfcc.tolist())\n",
        "                        data[\"labels\"].append(i-1)\n",
        "                        print(\"{}, segment:{}\".format(file_path, d+1))\n",
        "\n",
        "    # save MFCCs to json file\n",
        "    with open(json_path, \"w\") as fp:\n",
        "        json.dump(data, fp, indent=4)\n",
        "\n",
        "\n",
        "if __name__ == \"__main__\":\n",
        "    save_mfcc(DATASET_PATH, JSON_PATH, num_segments=10)"
      ]
    },
    {
      "cell_type": "code",
      "source": [
        "import json\n",
        "import numpy as np\n",
        "from sklearn.model_selection import train_test_split\n",
        "import tensorflow.keras as keras\n",
        "import matplotlib.pyplot as plt\n",
        "\n",
        "DATA_PATH = \"/content/drive/MyDrive/Music Instrument/data_10.json\"\n",
        "\n",
        "\n",
        "def load_data(data_path):\n",
        "\n",
        "\n",
        "    with open(data_path, \"r\") as fp:\n",
        "        data = json.load(fp)\n",
        "\n",
        "    X = np.array(data[\"mfcc\"])\n",
        "    y = np.array(data[\"labels\"])\n",
        "    return X, y\n",
        "\n",
        "\n",
        "def plot_history(history):\n",
        "\n",
        "    fig, axs = plt.subplots(2)\n",
        "\n",
        "    # create accuracy sublpot\n",
        "    axs[0].plot(history.history[\"accuracy\"], label=\"train accuracy\")\n",
        "    axs[0].plot(history.history[\"val_accuracy\"], label=\"test accuracy\")\n",
        "    axs[0].set_ylabel(\"Accuracy\")\n",
        "    axs[0].legend(loc=\"lower right\")\n",
        "    axs[0].set_title(\"Accuracy eval\")\n",
        "\n",
        "    # create error sublpot\n",
        "    axs[1].plot(history.history[\"loss\"], label=\"train error\")\n",
        "    axs[1].plot(history.history[\"val_loss\"], label=\"test error\")\n",
        "    axs[1].set_ylabel(\"Error\")\n",
        "    axs[1].set_xlabel(\"Epoch\")\n",
        "    axs[1].legend(loc=\"upper right\")\n",
        "    axs[1].set_title(\"Error eval\")\n",
        "\n",
        "    plt.show()\n",
        "\n",
        "\n",
        "def prepare_datasets(test_size, validation_size):\n",
        "\n",
        "    # load data\n",
        "    X, y = load_data(DATA_PATH)\n",
        "\n",
        "    # create train, validation and test split\n",
        "    X_train, X_test, y_train, y_test = train_test_split(X, y, test_size=test_size)\n",
        "    X_train, X_validation, y_train, y_validation = train_test_split(X_train, y_train, test_size=validation_size)\n",
        "\n",
        "    return X_train, X_validation, X_test, y_train, y_validation, y_test\n",
        "\n",
        "\n",
        "def build_model(input_shape):\n",
        "\n",
        "\n",
        "    # build network topology\n",
        "    model = keras.Sequential()\n",
        "\n",
        "    # 2 LSTM layers\n",
        "    model.add(keras.layers.LSTM(64, input_shape=input_shape, return_sequences=True))\n",
        "    model.add(keras.layers.LSTM(64))\n",
        "\n",
        "    # dense layer\n",
        "    model.add(keras.layers.Dense(64, activation='relu'))\n",
        "    model.add(keras.layers.Dropout(0.3))\n",
        "\n",
        "    # output layer\n",
        "    model.add(keras.layers.Dense(10, activation='softmax'))\n",
        "\n",
        "    return model\n",
        "\n",
        "\n",
        "if __name__ == \"__main__\":\n",
        "\n",
        "    # get train, validation, test splits\n",
        "    X_train, X_validation, X_test, y_train, y_validation, y_test = prepare_datasets(0.25, 0.2)\n",
        "\n",
        "    # create network\n",
        "    input_shape = (X_train.shape[1], X_train.shape[2]) # 130, 13\n",
        "    model = build_model(input_shape)\n",
        "\n",
        "    # compile model\n",
        "    optimiser = keras.optimizers.Adam(learning_rate=0.0001)\n",
        "    model.compile(optimizer=optimiser,\n",
        "                  loss='sparse_categorical_crossentropy',\n",
        "                  metrics=['accuracy'])\n",
        "\n",
        "    model.summary()\n",
        "\n",
        "    # train model\n",
        "    history = model.fit(X_train, y_train, validation_data=(X_validation, y_validation), batch_size=32, epochs=150)\n",
        "\n",
        "    # plot accuracy/error for training and validation\n",
        "    plot_history(history)\n",
        "\n",
        "    # evaluate model on test set\n",
        "    test_loss, test_acc = model.evaluate(X_test, y_test, verbose=2)\n",
        "    print('\\nTest accuracy:', test_acc)"
      ],
      "metadata": {
        "colab": {
          "base_uri": "https://localhost:8080/",
          "height": 1000
        },
        "id": "lmYgR8phHyqU",
        "outputId": "c9bfb50d-7670-42da-c17e-530f1cd1171f"
      },
      "execution_count": null,
      "outputs": [
        {
          "output_type": "stream",
          "name": "stdout",
          "text": [
            "Model: \"sequential_5\"\n",
            "_________________________________________________________________\n",
            " Layer (type)                Output Shape              Param #   \n",
            "=================================================================\n",
            " lstm_10 (LSTM)              (None, 130, 64)           26880     \n",
            "                                                                 \n",
            " lstm_11 (LSTM)              (None, 64)                33024     \n",
            "                                                                 \n",
            " dense_10 (Dense)            (None, 64)                4160      \n",
            "                                                                 \n",
            " dropout_5 (Dropout)         (None, 64)                0         \n",
            "                                                                 \n",
            " dense_11 (Dense)            (None, 10)                650       \n",
            "                                                                 \n",
            "=================================================================\n",
            "Total params: 64,714\n",
            "Trainable params: 64,714\n",
            "Non-trainable params: 0\n",
            "_________________________________________________________________\n",
            "Epoch 1/100\n",
            "35/35 [==============================] - 7s 40ms/step - loss: 2.2169 - accuracy: 0.2388 - val_loss: 2.0322 - val_accuracy: 0.5568\n",
            "Epoch 2/100\n",
            "35/35 [==============================] - 0s 13ms/step - loss: 1.8111 - accuracy: 0.5748 - val_loss: 1.6222 - val_accuracy: 0.6337\n",
            "Epoch 3/100\n",
            "35/35 [==============================] - 0s 13ms/step - loss: 1.4263 - accuracy: 0.6768 - val_loss: 1.2424 - val_accuracy: 0.6630\n",
            "Epoch 4/100\n",
            "35/35 [==============================] - 0s 13ms/step - loss: 1.1009 - accuracy: 0.7135 - val_loss: 0.9518 - val_accuracy: 0.7070\n",
            "Epoch 5/100\n",
            "35/35 [==============================] - 0s 13ms/step - loss: 0.8649 - accuracy: 0.7539 - val_loss: 0.7495 - val_accuracy: 0.7656\n",
            "Epoch 6/100\n",
            "35/35 [==============================] - 0s 13ms/step - loss: 0.6832 - accuracy: 0.8044 - val_loss: 0.6070 - val_accuracy: 0.8205\n",
            "Epoch 7/100\n",
            "35/35 [==============================] - 0s 13ms/step - loss: 0.5611 - accuracy: 0.8567 - val_loss: 0.5087 - val_accuracy: 0.8425\n",
            "Epoch 8/100\n",
            "35/35 [==============================] - 0s 14ms/step - loss: 0.4662 - accuracy: 0.8806 - val_loss: 0.4417 - val_accuracy: 0.8681\n",
            "Epoch 9/100\n",
            "35/35 [==============================] - 0s 13ms/step - loss: 0.4005 - accuracy: 0.9063 - val_loss: 0.3936 - val_accuracy: 0.8718\n",
            "Epoch 10/100\n",
            "35/35 [==============================] - 0s 13ms/step - loss: 0.3494 - accuracy: 0.9164 - val_loss: 0.3566 - val_accuracy: 0.8864\n",
            "Epoch 11/100\n",
            "35/35 [==============================] - 0s 13ms/step - loss: 0.3223 - accuracy: 0.9302 - val_loss: 0.3315 - val_accuracy: 0.8901\n",
            "Epoch 12/100\n",
            "35/35 [==============================] - 0s 14ms/step - loss: 0.2773 - accuracy: 0.9376 - val_loss: 0.3279 - val_accuracy: 0.8864\n",
            "Epoch 13/100\n",
            "35/35 [==============================] - 0s 13ms/step - loss: 0.2631 - accuracy: 0.9357 - val_loss: 0.3052 - val_accuracy: 0.8901\n",
            "Epoch 14/100\n",
            "35/35 [==============================] - 0s 14ms/step - loss: 0.2425 - accuracy: 0.9403 - val_loss: 0.2967 - val_accuracy: 0.8974\n",
            "Epoch 15/100\n",
            "35/35 [==============================] - 0s 13ms/step - loss: 0.2204 - accuracy: 0.9486 - val_loss: 0.2653 - val_accuracy: 0.9194\n",
            "Epoch 16/100\n",
            "35/35 [==============================] - 0s 13ms/step - loss: 0.2094 - accuracy: 0.9522 - val_loss: 0.2825 - val_accuracy: 0.9084\n",
            "Epoch 17/100\n",
            "35/35 [==============================] - 0s 13ms/step - loss: 0.1843 - accuracy: 0.9568 - val_loss: 0.2595 - val_accuracy: 0.9231\n",
            "Epoch 18/100\n",
            "35/35 [==============================] - 0s 14ms/step - loss: 0.1779 - accuracy: 0.9624 - val_loss: 0.2528 - val_accuracy: 0.9304\n",
            "Epoch 19/100\n",
            "35/35 [==============================] - 0s 13ms/step - loss: 0.1684 - accuracy: 0.9660 - val_loss: 0.2491 - val_accuracy: 0.9304\n",
            "Epoch 20/100\n",
            "35/35 [==============================] - 1s 15ms/step - loss: 0.1550 - accuracy: 0.9669 - val_loss: 0.2510 - val_accuracy: 0.9267\n",
            "Epoch 21/100\n",
            "35/35 [==============================] - 1s 19ms/step - loss: 0.1472 - accuracy: 0.9660 - val_loss: 0.2442 - val_accuracy: 0.9304\n",
            "Epoch 22/100\n",
            "35/35 [==============================] - 1s 22ms/step - loss: 0.1498 - accuracy: 0.9688 - val_loss: 0.2759 - val_accuracy: 0.9158\n",
            "Epoch 23/100\n",
            "35/35 [==============================] - 1s 22ms/step - loss: 0.1444 - accuracy: 0.9679 - val_loss: 0.2437 - val_accuracy: 0.9267\n",
            "Epoch 24/100\n",
            "35/35 [==============================] - 1s 23ms/step - loss: 0.1379 - accuracy: 0.9725 - val_loss: 0.2384 - val_accuracy: 0.9267\n",
            "Epoch 25/100\n",
            "35/35 [==============================] - 1s 17ms/step - loss: 0.1279 - accuracy: 0.9725 - val_loss: 0.2357 - val_accuracy: 0.9267\n",
            "Epoch 26/100\n",
            "35/35 [==============================] - 0s 14ms/step - loss: 0.1242 - accuracy: 0.9725 - val_loss: 0.2343 - val_accuracy: 0.9267\n",
            "Epoch 27/100\n",
            "35/35 [==============================] - 0s 13ms/step - loss: 0.1218 - accuracy: 0.9743 - val_loss: 0.2438 - val_accuracy: 0.9231\n",
            "Epoch 28/100\n",
            "35/35 [==============================] - 0s 14ms/step - loss: 0.1139 - accuracy: 0.9752 - val_loss: 0.2390 - val_accuracy: 0.9231\n",
            "Epoch 29/100\n",
            "35/35 [==============================] - 0s 13ms/step - loss: 0.1089 - accuracy: 0.9752 - val_loss: 0.2349 - val_accuracy: 0.9231\n",
            "Epoch 30/100\n",
            "35/35 [==============================] - 0s 13ms/step - loss: 0.1067 - accuracy: 0.9734 - val_loss: 0.2359 - val_accuracy: 0.9231\n",
            "Epoch 31/100\n",
            "35/35 [==============================] - 0s 13ms/step - loss: 0.1087 - accuracy: 0.9725 - val_loss: 0.2286 - val_accuracy: 0.9267\n",
            "Epoch 32/100\n",
            "35/35 [==============================] - 0s 13ms/step - loss: 0.1039 - accuracy: 0.9761 - val_loss: 0.2203 - val_accuracy: 0.9267\n",
            "Epoch 33/100\n",
            "35/35 [==============================] - 0s 13ms/step - loss: 0.0968 - accuracy: 0.9743 - val_loss: 0.2251 - val_accuracy: 0.9267\n",
            "Epoch 34/100\n",
            "35/35 [==============================] - 0s 13ms/step - loss: 0.0981 - accuracy: 0.9743 - val_loss: 0.2225 - val_accuracy: 0.9267\n",
            "Epoch 35/100\n",
            "35/35 [==============================] - 0s 14ms/step - loss: 0.0953 - accuracy: 0.9770 - val_loss: 0.2155 - val_accuracy: 0.9304\n",
            "Epoch 36/100\n",
            "35/35 [==============================] - 0s 13ms/step - loss: 0.1070 - accuracy: 0.9725 - val_loss: 0.2280 - val_accuracy: 0.9267\n",
            "Epoch 37/100\n",
            "35/35 [==============================] - 0s 13ms/step - loss: 0.1006 - accuracy: 0.9761 - val_loss: 0.1915 - val_accuracy: 0.9377\n",
            "Epoch 38/100\n",
            "35/35 [==============================] - 0s 13ms/step - loss: 0.0857 - accuracy: 0.9780 - val_loss: 0.1934 - val_accuracy: 0.9341\n",
            "Epoch 39/100\n",
            "35/35 [==============================] - 0s 13ms/step - loss: 0.0835 - accuracy: 0.9807 - val_loss: 0.1879 - val_accuracy: 0.9377\n",
            "Epoch 40/100\n",
            "35/35 [==============================] - 0s 13ms/step - loss: 0.0819 - accuracy: 0.9789 - val_loss: 0.1974 - val_accuracy: 0.9341\n",
            "Epoch 41/100\n",
            "35/35 [==============================] - 0s 13ms/step - loss: 0.0843 - accuracy: 0.9780 - val_loss: 0.1853 - val_accuracy: 0.9414\n",
            "Epoch 42/100\n",
            "35/35 [==============================] - 0s 13ms/step - loss: 0.0774 - accuracy: 0.9826 - val_loss: 0.1845 - val_accuracy: 0.9414\n",
            "Epoch 43/100\n",
            "35/35 [==============================] - 0s 13ms/step - loss: 0.0771 - accuracy: 0.9816 - val_loss: 0.1890 - val_accuracy: 0.9487\n",
            "Epoch 44/100\n",
            "35/35 [==============================] - 0s 13ms/step - loss: 0.0777 - accuracy: 0.9789 - val_loss: 0.1860 - val_accuracy: 0.9451\n",
            "Epoch 45/100\n",
            "35/35 [==============================] - 0s 13ms/step - loss: 0.0736 - accuracy: 0.9826 - val_loss: 0.1821 - val_accuracy: 0.9487\n",
            "Epoch 46/100\n",
            "35/35 [==============================] - 1s 17ms/step - loss: 0.0729 - accuracy: 0.9826 - val_loss: 0.1944 - val_accuracy: 0.9487\n",
            "Epoch 47/100\n",
            "35/35 [==============================] - 1s 20ms/step - loss: 0.0685 - accuracy: 0.9826 - val_loss: 0.1899 - val_accuracy: 0.9524\n",
            "Epoch 48/100\n",
            "35/35 [==============================] - 1s 20ms/step - loss: 0.0688 - accuracy: 0.9835 - val_loss: 0.1966 - val_accuracy: 0.9487\n",
            "Epoch 49/100\n",
            "35/35 [==============================] - 1s 18ms/step - loss: 0.0623 - accuracy: 0.9844 - val_loss: 0.1927 - val_accuracy: 0.9487\n",
            "Epoch 50/100\n",
            "35/35 [==============================] - 1s 21ms/step - loss: 0.0609 - accuracy: 0.9853 - val_loss: 0.1833 - val_accuracy: 0.9560\n",
            "Epoch 51/100\n",
            "35/35 [==============================] - 1s 16ms/step - loss: 0.0623 - accuracy: 0.9862 - val_loss: 0.1835 - val_accuracy: 0.9560\n",
            "Epoch 52/100\n",
            "35/35 [==============================] - 0s 14ms/step - loss: 0.0574 - accuracy: 0.9844 - val_loss: 0.1796 - val_accuracy: 0.9560\n",
            "Epoch 53/100\n",
            "35/35 [==============================] - 0s 13ms/step - loss: 0.0538 - accuracy: 0.9890 - val_loss: 0.1894 - val_accuracy: 0.9524\n",
            "Epoch 54/100\n",
            "35/35 [==============================] - 0s 13ms/step - loss: 0.0570 - accuracy: 0.9881 - val_loss: 0.1777 - val_accuracy: 0.9560\n",
            "Epoch 55/100\n",
            "35/35 [==============================] - 0s 13ms/step - loss: 0.0609 - accuracy: 0.9826 - val_loss: 0.1786 - val_accuracy: 0.9560\n",
            "Epoch 56/100\n",
            "35/35 [==============================] - 0s 14ms/step - loss: 0.0487 - accuracy: 0.9890 - val_loss: 0.1782 - val_accuracy: 0.9560\n",
            "Epoch 57/100\n",
            "35/35 [==============================] - 1s 14ms/step - loss: 0.0462 - accuracy: 0.9908 - val_loss: 0.1862 - val_accuracy: 0.9524\n",
            "Epoch 58/100\n",
            "35/35 [==============================] - 0s 14ms/step - loss: 0.0458 - accuracy: 0.9899 - val_loss: 0.1870 - val_accuracy: 0.9524\n",
            "Epoch 59/100\n",
            "35/35 [==============================] - 1s 15ms/step - loss: 0.0492 - accuracy: 0.9890 - val_loss: 0.1697 - val_accuracy: 0.9560\n",
            "Epoch 60/100\n",
            "35/35 [==============================] - 0s 14ms/step - loss: 0.0390 - accuracy: 0.9917 - val_loss: 0.1730 - val_accuracy: 0.9560\n",
            "Epoch 61/100\n",
            "35/35 [==============================] - 0s 13ms/step - loss: 0.0437 - accuracy: 0.9890 - val_loss: 0.1790 - val_accuracy: 0.9560\n",
            "Epoch 62/100\n",
            "35/35 [==============================] - 0s 13ms/step - loss: 0.0429 - accuracy: 0.9881 - val_loss: 0.1854 - val_accuracy: 0.9560\n",
            "Epoch 63/100\n",
            "35/35 [==============================] - 1s 14ms/step - loss: 0.0415 - accuracy: 0.9890 - val_loss: 0.1837 - val_accuracy: 0.9560\n",
            "Epoch 64/100\n",
            "35/35 [==============================] - 0s 14ms/step - loss: 0.0340 - accuracy: 0.9927 - val_loss: 0.1942 - val_accuracy: 0.9524\n",
            "Epoch 65/100\n",
            "35/35 [==============================] - 0s 14ms/step - loss: 0.0344 - accuracy: 0.9917 - val_loss: 0.1807 - val_accuracy: 0.9560\n",
            "Epoch 66/100\n",
            "35/35 [==============================] - 0s 14ms/step - loss: 0.0299 - accuracy: 0.9927 - val_loss: 0.1966 - val_accuracy: 0.9524\n",
            "Epoch 67/100\n",
            "35/35 [==============================] - 0s 13ms/step - loss: 0.0286 - accuracy: 0.9936 - val_loss: 0.1965 - val_accuracy: 0.9597\n",
            "Epoch 68/100\n",
            "35/35 [==============================] - 0s 12ms/step - loss: 0.0359 - accuracy: 0.9927 - val_loss: 0.2083 - val_accuracy: 0.9597\n",
            "Epoch 69/100\n",
            "35/35 [==============================] - 0s 14ms/step - loss: 0.0278 - accuracy: 0.9954 - val_loss: 0.1981 - val_accuracy: 0.9597\n",
            "Epoch 70/100\n",
            "35/35 [==============================] - 0s 14ms/step - loss: 0.0326 - accuracy: 0.9936 - val_loss: 0.1945 - val_accuracy: 0.9597\n",
            "Epoch 71/100\n",
            "35/35 [==============================] - 0s 13ms/step - loss: 0.0251 - accuracy: 0.9936 - val_loss: 0.2037 - val_accuracy: 0.9597\n",
            "Epoch 72/100\n",
            "35/35 [==============================] - 1s 21ms/step - loss: 0.0322 - accuracy: 0.9945 - val_loss: 0.1674 - val_accuracy: 0.9634\n",
            "Epoch 73/100\n",
            "35/35 [==============================] - 1s 21ms/step - loss: 0.0197 - accuracy: 0.9954 - val_loss: 0.1918 - val_accuracy: 0.9597\n",
            "Epoch 74/100\n",
            "35/35 [==============================] - 1s 22ms/step - loss: 0.0202 - accuracy: 0.9963 - val_loss: 0.1914 - val_accuracy: 0.9560\n",
            "Epoch 75/100\n",
            "35/35 [==============================] - 1s 22ms/step - loss: 0.0170 - accuracy: 0.9972 - val_loss: 0.1897 - val_accuracy: 0.9634\n",
            "Epoch 76/100\n",
            "35/35 [==============================] - 1s 18ms/step - loss: 0.0222 - accuracy: 0.9982 - val_loss: 0.1889 - val_accuracy: 0.9524\n",
            "Epoch 77/100\n",
            "35/35 [==============================] - 0s 13ms/step - loss: 0.0201 - accuracy: 0.9954 - val_loss: 0.2041 - val_accuracy: 0.9560\n",
            "Epoch 78/100\n",
            "35/35 [==============================] - 0s 13ms/step - loss: 0.0179 - accuracy: 0.9963 - val_loss: 0.1959 - val_accuracy: 0.9560\n",
            "Epoch 79/100\n",
            "35/35 [==============================] - 0s 13ms/step - loss: 0.0161 - accuracy: 0.9963 - val_loss: 0.2057 - val_accuracy: 0.9560\n",
            "Epoch 80/100\n",
            "35/35 [==============================] - 0s 14ms/step - loss: 0.0239 - accuracy: 0.9954 - val_loss: 0.1966 - val_accuracy: 0.9560\n",
            "Epoch 81/100\n",
            "35/35 [==============================] - 0s 14ms/step - loss: 0.0134 - accuracy: 0.9963 - val_loss: 0.1866 - val_accuracy: 0.9597\n",
            "Epoch 82/100\n",
            "35/35 [==============================] - 0s 14ms/step - loss: 0.0126 - accuracy: 0.9982 - val_loss: 0.1835 - val_accuracy: 0.9597\n",
            "Epoch 83/100\n",
            "35/35 [==============================] - 0s 13ms/step - loss: 0.0115 - accuracy: 0.9982 - val_loss: 0.1798 - val_accuracy: 0.9597\n",
            "Epoch 84/100\n",
            "35/35 [==============================] - 0s 13ms/step - loss: 0.0142 - accuracy: 0.9972 - val_loss: 0.1884 - val_accuracy: 0.9560\n",
            "Epoch 85/100\n",
            "35/35 [==============================] - 0s 13ms/step - loss: 0.0132 - accuracy: 0.9982 - val_loss: 0.2030 - val_accuracy: 0.9560\n",
            "Epoch 86/100\n",
            "35/35 [==============================] - 0s 13ms/step - loss: 0.0113 - accuracy: 0.9972 - val_loss: 0.1852 - val_accuracy: 0.9597\n",
            "Epoch 87/100\n",
            "35/35 [==============================] - 0s 13ms/step - loss: 0.0109 - accuracy: 0.9991 - val_loss: 0.1865 - val_accuracy: 0.9560\n",
            "Epoch 88/100\n",
            "35/35 [==============================] - 0s 14ms/step - loss: 0.0098 - accuracy: 0.9991 - val_loss: 0.1888 - val_accuracy: 0.9597\n",
            "Epoch 89/100\n",
            "35/35 [==============================] - 0s 14ms/step - loss: 0.0100 - accuracy: 0.9991 - val_loss: 0.1920 - val_accuracy: 0.9597\n",
            "Epoch 90/100\n",
            "35/35 [==============================] - 0s 14ms/step - loss: 0.0096 - accuracy: 0.9991 - val_loss: 0.1910 - val_accuracy: 0.9597\n",
            "Epoch 91/100\n",
            "35/35 [==============================] - 0s 13ms/step - loss: 0.0083 - accuracy: 1.0000 - val_loss: 0.1978 - val_accuracy: 0.9597\n",
            "Epoch 92/100\n",
            "35/35 [==============================] - 0s 13ms/step - loss: 0.0078 - accuracy: 1.0000 - val_loss: 0.2097 - val_accuracy: 0.9560\n",
            "Epoch 93/100\n",
            "35/35 [==============================] - 0s 13ms/step - loss: 0.0095 - accuracy: 0.9982 - val_loss: 0.2082 - val_accuracy: 0.9560\n",
            "Epoch 94/100\n",
            "35/35 [==============================] - 1s 15ms/step - loss: 0.0095 - accuracy: 0.9982 - val_loss: 0.2279 - val_accuracy: 0.9524\n",
            "Epoch 95/100\n",
            "35/35 [==============================] - 0s 14ms/step - loss: 0.0080 - accuracy: 1.0000 - val_loss: 0.2276 - val_accuracy: 0.9487\n",
            "Epoch 96/100\n",
            "35/35 [==============================] - 1s 15ms/step - loss: 0.0075 - accuracy: 0.9991 - val_loss: 0.2283 - val_accuracy: 0.9524\n",
            "Epoch 97/100\n",
            "35/35 [==============================] - 1s 20ms/step - loss: 0.0070 - accuracy: 0.9991 - val_loss: 0.2213 - val_accuracy: 0.9524\n",
            "Epoch 98/100\n",
            "35/35 [==============================] - 1s 21ms/step - loss: 0.0059 - accuracy: 1.0000 - val_loss: 0.2139 - val_accuracy: 0.9524\n",
            "Epoch 99/100\n",
            "35/35 [==============================] - 1s 23ms/step - loss: 0.0065 - accuracy: 0.9991 - val_loss: 0.2157 - val_accuracy: 0.9524\n",
            "Epoch 100/100\n",
            "35/35 [==============================] - 1s 20ms/step - loss: 0.0054 - accuracy: 1.0000 - val_loss: 0.2082 - val_accuracy: 0.9560\n"
          ]
        },
        {
          "output_type": "error",
          "ename": "AttributeError",
          "evalue": "ignored",
          "traceback": [
            "\u001b[0;31m---------------------------------------------------------------------------\u001b[0m",
            "\u001b[0;31mAttributeError\u001b[0m                            Traceback (most recent call last)",
            "\u001b[0;32m<ipython-input-7-51b7119b7ba3>\u001b[0m in \u001b[0;36m<cell line: 77>\u001b[0;34m()\u001b[0m\n\u001b[1;32m     96\u001b[0m \u001b[0;34m\u001b[0m\u001b[0m\n\u001b[1;32m     97\u001b[0m     \u001b[0;31m# plot accuracy/error for training and validation\u001b[0m\u001b[0;34m\u001b[0m\u001b[0;34m\u001b[0m\u001b[0m\n\u001b[0;32m---> 98\u001b[0;31m     \u001b[0mplot_history\u001b[0m\u001b[0;34m(\u001b[0m\u001b[0mhistory\u001b[0m\u001b[0;34m)\u001b[0m\u001b[0;34m\u001b[0m\u001b[0;34m\u001b[0m\u001b[0m\n\u001b[0m\u001b[1;32m     99\u001b[0m \u001b[0;34m\u001b[0m\u001b[0m\n\u001b[1;32m    100\u001b[0m     \u001b[0;31m# evaluate model on test set\u001b[0m\u001b[0;34m\u001b[0m\u001b[0;34m\u001b[0m\u001b[0m\n",
            "\u001b[0;32m<ipython-input-7-51b7119b7ba3>\u001b[0m in \u001b[0;36mplot_history\u001b[0;34m(history)\u001b[0m\n\u001b[1;32m     26\u001b[0m     \u001b[0mplt\u001b[0m\u001b[0;34m.\u001b[0m\u001b[0mplot\u001b[0m\u001b[0;34m(\u001b[0m\u001b[0mhistory\u001b[0m\u001b[0;34m.\u001b[0m\u001b[0mhistory\u001b[0m\u001b[0;34m[\u001b[0m\u001b[0;34m\"accuracy\"\u001b[0m\u001b[0;34m]\u001b[0m\u001b[0;34m,\u001b[0m \u001b[0mlabel\u001b[0m\u001b[0;34m=\u001b[0m\u001b[0;34m\"train accuracy\"\u001b[0m\u001b[0;34m)\u001b[0m\u001b[0;34m\u001b[0m\u001b[0;34m\u001b[0m\u001b[0m\n\u001b[1;32m     27\u001b[0m     \u001b[0mplt\u001b[0m\u001b[0;34m.\u001b[0m\u001b[0mplot\u001b[0m\u001b[0;34m(\u001b[0m\u001b[0mhistory\u001b[0m\u001b[0;34m.\u001b[0m\u001b[0mhistory\u001b[0m\u001b[0;34m[\u001b[0m\u001b[0;34m\"val_accuracy\"\u001b[0m\u001b[0;34m]\u001b[0m\u001b[0;34m,\u001b[0m \u001b[0mlabel\u001b[0m\u001b[0;34m=\u001b[0m\u001b[0;34m\"test accuracy\"\u001b[0m\u001b[0;34m)\u001b[0m\u001b[0;34m\u001b[0m\u001b[0;34m\u001b[0m\u001b[0m\n\u001b[0;32m---> 28\u001b[0;31m     \u001b[0mplt\u001b[0m\u001b[0;34m.\u001b[0m\u001b[0mset_ylabel\u001b[0m\u001b[0;34m(\u001b[0m\u001b[0;34m\"Accuracy\"\u001b[0m\u001b[0;34m)\u001b[0m\u001b[0;34m\u001b[0m\u001b[0;34m\u001b[0m\u001b[0m\n\u001b[0m\u001b[1;32m     29\u001b[0m     \u001b[0mplt\u001b[0m\u001b[0;34m.\u001b[0m\u001b[0mlegend\u001b[0m\u001b[0;34m(\u001b[0m\u001b[0mloc\u001b[0m\u001b[0;34m=\u001b[0m\u001b[0;34m\"lower right\"\u001b[0m\u001b[0;34m)\u001b[0m\u001b[0;34m\u001b[0m\u001b[0;34m\u001b[0m\u001b[0m\n\u001b[1;32m     30\u001b[0m     \u001b[0mplt\u001b[0m\u001b[0;34m.\u001b[0m\u001b[0mset_title\u001b[0m\u001b[0;34m(\u001b[0m\u001b[0;34m\"Accuracy eval\"\u001b[0m\u001b[0;34m)\u001b[0m\u001b[0;34m\u001b[0m\u001b[0;34m\u001b[0m\u001b[0m\n",
            "\u001b[0;31mAttributeError\u001b[0m: module 'matplotlib.pyplot' has no attribute 'set_ylabel'"
          ]
        },
        {
          "output_type": "display_data",
          "data": {
            "text/plain": [
              "<Figure size 640x480 with 1 Axes>"
            ],
            "image/png": "[encoded data removed]"
          },
          "metadata": {}
        }
      ]
    },
    {
      "cell_type": "code",
      "source": [
        "model.save(\"/content/drive/MyDrive/Music Instrument/Indian Music Inst/IndianInst.pb\")"
      ],
      "metadata": {
        "id": "JEnbMSHVUBal",
        "colab": {
          "base_uri": "https://localhost:8080/"
        },
        "outputId": "ef6c296b-7d4a-4ec4-b551-bd3b571eb051"
      },
      "execution_count": null,
      "outputs": [
        {
          "output_type": "stream",
          "name": "stderr",
          "text": [
            "WARNING:absl:Found untraced functions such as lstm_cell_layer_call_fn, lstm_cell_layer_call_and_return_conditional_losses, lstm_cell_1_layer_call_fn, lstm_cell_1_layer_call_and_return_conditional_losses while saving (showing 4 of 4). These functions will not be directly callable after loading.\n"
          ]
        }
      ]
    },
    {
      "cell_type": "code",
      "source": [
        "import tensorflow as tf\n",
        "\n",
        "# Load your saved model\n",
        "model = tf.keras.models.load_model('/content/drive/MyDrive/Music Instrument/IndianInst.pb')\n",
        "\n",
        "# Convert the model to a TFLite model\n",
        "converter = tf.lite.TFLiteConverter.from_keras_model(model)\n",
        "\n",
        "# Disable experimental lowering of tensor list ops\n",
        "converter.experimental_new_converter = True\n",
        "converter.target_spec.supported_ops = [tf.lite.OpsSet.TFLITE_BUILTINS, tf.lite.OpsSet.SELECT_TF_OPS]\n",
        "converter._experimental_lower_tensor_list_ops = False\n",
        "\n",
        "tflite_model = converter.convert()\n",
        "\n",
        "# Save the TFLite model to a file\n",
        "with open('/content/drive/MyDrive/Music Instrument/Indian Music Inst/IndianInst.tflite', 'wb') as f:\n",
        "    f.write(tflite_model)"
      ],
      "metadata": {
        "colab": {
          "base_uri": "https://localhost:8080/",
          "height": 437
        },
        "id": "o-THYBF1TTlM",
        "outputId": "f536315c-ec2e-487e-cead-d35af55b7944"
      },
      "execution_count": null,
      "outputs": [
        {
          "output_type": "stream",
          "name": "stderr",
          "text": [
            "WARNING:absl:Found untraced functions such as _update_step_xla, lstm_cell_2_layer_call_fn, lstm_cell_2_layer_call_and_return_conditional_losses, lstm_cell_3_layer_call_fn, lstm_cell_3_layer_call_and_return_conditional_losses while saving (showing 5 of 5). These functions will not be directly callable after loading.\n"
          ]
        },
        {
          "output_type": "error",
          "ename": "KeyboardInterrupt",
          "evalue": "ignored",
          "traceback": [
            "\u001b[0;31m---------------------------------------------------------------------------\u001b[0m",
            "\u001b[0;31mKeyboardInterrupt\u001b[0m                         Traceback (most recent call last)",
            "\u001b[0;32m<ipython-input-11-df091efed305>\u001b[0m in \u001b[0;36m<cell line: 14>\u001b[0;34m()\u001b[0m\n\u001b[1;32m     12\u001b[0m \u001b[0mconverter\u001b[0m\u001b[0;34m.\u001b[0m\u001b[0m_experimental_lower_tensor_list_ops\u001b[0m \u001b[0;34m=\u001b[0m \u001b[0;32mFalse\u001b[0m\u001b[0;34m\u001b[0m\u001b[0;34m\u001b[0m\u001b[0m\n\u001b[1;32m     13\u001b[0m \u001b[0;34m\u001b[0m\u001b[0m\n\u001b[0;32m---> 14\u001b[0;31m \u001b[0mtflite_model\u001b[0m \u001b[0;34m=\u001b[0m \u001b[0mconverter\u001b[0m\u001b[0;34m.\u001b[0m\u001b[0mconvert\u001b[0m\u001b[0;34m(\u001b[0m\u001b[0;34m)\u001b[0m\u001b[0;34m\u001b[0m\u001b[0;34m\u001b[0m\u001b[0m\n\u001b[0m\u001b[1;32m     15\u001b[0m \u001b[0;34m\u001b[0m\u001b[0m\n\u001b[1;32m     16\u001b[0m \u001b[0;31m# Save the TFLite model to a file\u001b[0m\u001b[0;34m\u001b[0m\u001b[0;34m\u001b[0m\u001b[0m\n",
            "\u001b[0;32m/usr/local/lib/python3.9/dist-packages/tensorflow/lite/python/lite.py\u001b[0m in \u001b[0;36mwrapper\u001b[0;34m(self, *args, **kwargs)\u001b[0m\n\u001b[1;32m    960\u001b[0m   \u001b[0;32mdef\u001b[0m \u001b[0mwrapper\u001b[0m\u001b[0;34m(\u001b[0m\u001b[0mself\u001b[0m\u001b[0;34m,\u001b[0m \u001b[0;34m*\u001b[0m\u001b[0margs\u001b[0m\u001b[0;34m,\u001b[0m \u001b[0;34m**\u001b[0m\u001b[0mkwargs\u001b[0m\u001b[0;34m)\u001b[0m\u001b[0;34m:\u001b[0m\u001b[0;34m\u001b[0m\u001b[0;34m\u001b[0m\u001b[0m\n\u001b[1;32m    961\u001b[0m     \u001b[0;31m# pylint: disable=protected-access\u001b[0m\u001b[0;34m\u001b[0m\u001b[0;34m\u001b[0m\u001b[0m\n\u001b[0;32m--> 962\u001b[0;31m     \u001b[0;32mreturn\u001b[0m \u001b[0mself\u001b[0m\u001b[0;34m.\u001b[0m\u001b[0m_convert_and_export_metrics\u001b[0m\u001b[0;34m(\u001b[0m\u001b[0mconvert_func\u001b[0m\u001b[0;34m,\u001b[0m \u001b[0;34m*\u001b[0m\u001b[0margs\u001b[0m\u001b[0;34m,\u001b[0m \u001b[0;34m**\u001b[0m\u001b[0mkwargs\u001b[0m\u001b[0;34m)\u001b[0m\u001b[0;34m\u001b[0m\u001b[0;34m\u001b[0m\u001b[0m\n\u001b[0m\u001b[1;32m    963\u001b[0m     \u001b[0;31m# pylint: enable=protected-access\u001b[0m\u001b[0;34m\u001b[0m\u001b[0;34m\u001b[0m\u001b[0m\n\u001b[1;32m    964\u001b[0m \u001b[0;34m\u001b[0m\u001b[0m\n",
            "\u001b[0;32m/usr/local/lib/python3.9/dist-packages/tensorflow/lite/python/lite.py\u001b[0m in \u001b[0;36m_convert_and_export_metrics\u001b[0;34m(self, convert_func, *args, **kwargs)\u001b[0m\n\u001b[1;32m    938\u001b[0m     \u001b[0mself\u001b[0m\u001b[0;34m.\u001b[0m\u001b[0m_save_conversion_params_metric\u001b[0m\u001b[0;34m(\u001b[0m\u001b[0;34m)\u001b[0m\u001b[0;34m\u001b[0m\u001b[0;34m\u001b[0m\u001b[0m\n\u001b[1;32m    939\u001b[0m     \u001b[0mstart_time\u001b[0m \u001b[0;34m=\u001b[0m \u001b[0mtime\u001b[0m\u001b[0;34m.\u001b[0m\u001b[0mprocess_time\u001b[0m\u001b[0;34m(\u001b[0m\u001b[0;34m)\u001b[0m\u001b[0;34m\u001b[0m\u001b[0;34m\u001b[0m\u001b[0m\n\u001b[0;32m--> 940\u001b[0;31m     \u001b[0mresult\u001b[0m \u001b[0;34m=\u001b[0m \u001b[0mconvert_func\u001b[0m\u001b[0;34m(\u001b[0m\u001b[0mself\u001b[0m\u001b[0;34m,\u001b[0m \u001b[0;34m*\u001b[0m\u001b[0margs\u001b[0m\u001b[0;34m,\u001b[0m \u001b[0;34m**\u001b[0m\u001b[0mkwargs\u001b[0m\u001b[0;34m)\u001b[0m\u001b[0;34m\u001b[0m\u001b[0;34m\u001b[0m\u001b[0m\n\u001b[0m\u001b[1;32m    941\u001b[0m     \u001b[0melapsed_time_ms\u001b[0m \u001b[0;34m=\u001b[0m \u001b[0;34m(\u001b[0m\u001b[0mtime\u001b[0m\u001b[0;34m.\u001b[0m\u001b[0mprocess_time\u001b[0m\u001b[0;34m(\u001b[0m\u001b[0;34m)\u001b[0m \u001b[0;34m-\u001b[0m \u001b[0mstart_time\u001b[0m\u001b[0;34m)\u001b[0m \u001b[0;34m*\u001b[0m \u001b[0;36m1000\u001b[0m\u001b[0;34m\u001b[0m\u001b[0;34m\u001b[0m\u001b[0m\n\u001b[1;32m    942\u001b[0m     \u001b[0;32mif\u001b[0m \u001b[0mresult\u001b[0m\u001b[0;34m:\u001b[0m\u001b[0;34m\u001b[0m\u001b[0;34m\u001b[0m\u001b[0m\n",
            "\u001b[0;32m/usr/local/lib/python3.9/dist-packages/tensorflow/lite/python/lite.py\u001b[0m in \u001b[0;36mconvert\u001b[0;34m(self)\u001b[0m\n\u001b[1;32m   1371\u001b[0m         \u001b[0mInvalid\u001b[0m \u001b[0mquantization\u001b[0m \u001b[0mparameters\u001b[0m\u001b[0;34m.\u001b[0m\u001b[0;34m\u001b[0m\u001b[0;34m\u001b[0m\u001b[0m\n\u001b[1;32m   1372\u001b[0m     \"\"\"\n\u001b[0;32m-> 1373\u001b[0;31m     \u001b[0msaved_model_convert_result\u001b[0m \u001b[0;34m=\u001b[0m \u001b[0mself\u001b[0m\u001b[0;34m.\u001b[0m\u001b[0m_convert_as_saved_model\u001b[0m\u001b[0;34m(\u001b[0m\u001b[0;34m)\u001b[0m\u001b[0;34m\u001b[0m\u001b[0;34m\u001b[0m\u001b[0m\n\u001b[0m\u001b[1;32m   1374\u001b[0m     \u001b[0;32mif\u001b[0m \u001b[0msaved_model_convert_result\u001b[0m\u001b[0;34m:\u001b[0m\u001b[0;34m\u001b[0m\u001b[0;34m\u001b[0m\u001b[0m\n\u001b[1;32m   1375\u001b[0m       \u001b[0;32mreturn\u001b[0m \u001b[0msaved_model_convert_result\u001b[0m\u001b[0;34m\u001b[0m\u001b[0;34m\u001b[0m\u001b[0m\n",
            "\u001b[0;32m/usr/local/lib/python3.9/dist-packages/tensorflow/lite/python/lite.py\u001b[0m in \u001b[0;36m_convert_as_saved_model\u001b[0;34m(self)\u001b[0m\n\u001b[1;32m   1351\u001b[0m     \u001b[0;32mtry\u001b[0m\u001b[0;34m:\u001b[0m\u001b[0;34m\u001b[0m\u001b[0;34m\u001b[0m\u001b[0m\n\u001b[1;32m   1352\u001b[0m       graph_def, input_tensors, output_tensors = (\n\u001b[0;32m-> 1353\u001b[0;31m           self._convert_keras_to_saved_model(temp_dir))\n\u001b[0m\u001b[1;32m   1354\u001b[0m       \u001b[0;32mif\u001b[0m \u001b[0mself\u001b[0m\u001b[0;34m.\u001b[0m\u001b[0msaved_model_dir\u001b[0m\u001b[0;34m:\u001b[0m\u001b[0;34m\u001b[0m\u001b[0;34m\u001b[0m\u001b[0m\n\u001b[1;32m   1355\u001b[0m         return super(TFLiteKerasModelConverterV2,\n",
            "\u001b[0;32m/usr/local/lib/python3.9/dist-packages/tensorflow/lite/python/convert_phase.py\u001b[0m in \u001b[0;36mwrapper\u001b[0;34m(*args, **kwargs)\u001b[0m\n\u001b[1;32m    203\u001b[0m     \u001b[0;32mdef\u001b[0m \u001b[0mwrapper\u001b[0m\u001b[0;34m(\u001b[0m\u001b[0;34m*\u001b[0m\u001b[0margs\u001b[0m\u001b[0;34m,\u001b[0m \u001b[0;34m**\u001b[0m\u001b[0mkwargs\u001b[0m\u001b[0;34m)\u001b[0m\u001b[0;34m:\u001b[0m\u001b[0;34m\u001b[0m\u001b[0;34m\u001b[0m\u001b[0m\n\u001b[1;32m    204\u001b[0m       \u001b[0;32mtry\u001b[0m\u001b[0;34m:\u001b[0m\u001b[0;34m\u001b[0m\u001b[0;34m\u001b[0m\u001b[0m\n\u001b[0;32m--> 205\u001b[0;31m         \u001b[0;32mreturn\u001b[0m \u001b[0mfunc\u001b[0m\u001b[0;34m(\u001b[0m\u001b[0;34m*\u001b[0m\u001b[0margs\u001b[0m\u001b[0;34m,\u001b[0m \u001b[0;34m**\u001b[0m\u001b[0mkwargs\u001b[0m\u001b[0;34m)\u001b[0m\u001b[0;34m\u001b[0m\u001b[0;34m\u001b[0m\u001b[0m\n\u001b[0m\u001b[1;32m    206\u001b[0m       \u001b[0;32mexcept\u001b[0m \u001b[0mConverterError\u001b[0m \u001b[0;32mas\u001b[0m \u001b[0mconverter_error\u001b[0m\u001b[0;34m:\u001b[0m\u001b[0;34m\u001b[0m\u001b[0;34m\u001b[0m\u001b[0m\n\u001b[1;32m    207\u001b[0m         \u001b[0;32mif\u001b[0m \u001b[0mconverter_error\u001b[0m\u001b[0;34m.\u001b[0m\u001b[0merrors\u001b[0m\u001b[0;34m:\u001b[0m\u001b[0;34m\u001b[0m\u001b[0;34m\u001b[0m\u001b[0m\n",
            "\u001b[0;32m/usr/local/lib/python3.9/dist-packages/tensorflow/lite/python/lite.py\u001b[0m in \u001b[0;36m_convert_keras_to_saved_model\u001b[0;34m(self, output_dir)\u001b[0m\n\u001b[1;32m   1299\u001b[0m       graph_def, input_tensors, output_tensors = self._load_saved_model(\n\u001b[1;32m   1300\u001b[0m           self.saved_model_dir, self._saved_model_tags)\n\u001b[0;32m-> 1301\u001b[0;31m       \u001b[0mself\u001b[0m\u001b[0;34m.\u001b[0m\u001b[0m_trackable_obj\u001b[0m \u001b[0;34m=\u001b[0m \u001b[0m_load\u001b[0m\u001b[0;34m(\u001b[0m\u001b[0mself\u001b[0m\u001b[0;34m.\u001b[0m\u001b[0msaved_model_dir\u001b[0m\u001b[0;34m,\u001b[0m \u001b[0mself\u001b[0m\u001b[0;34m.\u001b[0m\u001b[0m_saved_model_tags\u001b[0m\u001b[0;34m)\u001b[0m\u001b[0;34m\u001b[0m\u001b[0;34m\u001b[0m\u001b[0m\n\u001b[0m\u001b[1;32m   1302\u001b[0m       \u001b[0;32mreturn\u001b[0m \u001b[0mgraph_def\u001b[0m\u001b[0;34m,\u001b[0m \u001b[0minput_tensors\u001b[0m\u001b[0;34m,\u001b[0m \u001b[0moutput_tensors\u001b[0m\u001b[0;34m\u001b[0m\u001b[0;34m\u001b[0m\u001b[0m\n\u001b[1;32m   1303\u001b[0m     \u001b[0;32mreturn\u001b[0m \u001b[0;32mNone\u001b[0m\u001b[0;34m,\u001b[0m \u001b[0;32mNone\u001b[0m\u001b[0;34m,\u001b[0m \u001b[0;32mNone\u001b[0m\u001b[0;34m\u001b[0m\u001b[0;34m\u001b[0m\u001b[0m\n",
            "\u001b[0;32m/usr/local/lib/python3.9/dist-packages/tensorflow/python/saved_model/load.py\u001b[0m in \u001b[0;36mload\u001b[0;34m(export_dir, tags, options)\u001b[0m\n\u001b[1;32m    834\u001b[0m   \u001b[0;32mif\u001b[0m \u001b[0misinstance\u001b[0m\u001b[0;34m(\u001b[0m\u001b[0mexport_dir\u001b[0m\u001b[0;34m,\u001b[0m \u001b[0mos\u001b[0m\u001b[0;34m.\u001b[0m\u001b[0mPathLike\u001b[0m\u001b[0;34m)\u001b[0m\u001b[0;34m:\u001b[0m\u001b[0;34m\u001b[0m\u001b[0;34m\u001b[0m\u001b[0m\n\u001b[1;32m    835\u001b[0m     \u001b[0mexport_dir\u001b[0m \u001b[0;34m=\u001b[0m \u001b[0mos\u001b[0m\u001b[0;34m.\u001b[0m\u001b[0mfspath\u001b[0m\u001b[0;34m(\u001b[0m\u001b[0mexport_dir\u001b[0m\u001b[0;34m)\u001b[0m\u001b[0;34m\u001b[0m\u001b[0;34m\u001b[0m\u001b[0m\n\u001b[0;32m--> 836\u001b[0;31m   \u001b[0mresult\u001b[0m \u001b[0;34m=\u001b[0m \u001b[0mload_partial\u001b[0m\u001b[0;34m(\u001b[0m\u001b[0mexport_dir\u001b[0m\u001b[0;34m,\u001b[0m \u001b[0;32mNone\u001b[0m\u001b[0;34m,\u001b[0m \u001b[0mtags\u001b[0m\u001b[0;34m,\u001b[0m \u001b[0moptions\u001b[0m\u001b[0;34m)\u001b[0m\u001b[0;34m[\u001b[0m\u001b[0;34m\"root\"\u001b[0m\u001b[0;34m]\u001b[0m\u001b[0;34m\u001b[0m\u001b[0;34m\u001b[0m\u001b[0m\n\u001b[0m\u001b[1;32m    837\u001b[0m   \u001b[0;32mreturn\u001b[0m \u001b[0mresult\u001b[0m\u001b[0;34m\u001b[0m\u001b[0;34m\u001b[0m\u001b[0m\n\u001b[1;32m    838\u001b[0m \u001b[0;34m\u001b[0m\u001b[0m\n",
            "\u001b[0;32m/usr/local/lib/python3.9/dist-packages/tensorflow/python/saved_model/load.py\u001b[0m in \u001b[0;36mload_partial\u001b[0;34m(export_dir, filters, tags, options)\u001b[0m\n\u001b[1;32m    964\u001b[0m     \u001b[0;32mwith\u001b[0m \u001b[0mops\u001b[0m\u001b[0;34m.\u001b[0m\u001b[0minit_scope\u001b[0m\u001b[0;34m(\u001b[0m\u001b[0;34m)\u001b[0m\u001b[0;34m:\u001b[0m\u001b[0;34m\u001b[0m\u001b[0;34m\u001b[0m\u001b[0m\n\u001b[1;32m    965\u001b[0m       \u001b[0;32mtry\u001b[0m\u001b[0;34m:\u001b[0m\u001b[0;34m\u001b[0m\u001b[0;34m\u001b[0m\u001b[0m\n\u001b[0;32m--> 966\u001b[0;31m         loader = Loader(object_graph_proto, saved_model_proto, export_dir,\n\u001b[0m\u001b[1;32m    967\u001b[0m                         ckpt_options, options, filters)\n\u001b[1;32m    968\u001b[0m       \u001b[0;32mexcept\u001b[0m \u001b[0merrors\u001b[0m\u001b[0;34m.\u001b[0m\u001b[0mNotFoundError\u001b[0m \u001b[0;32mas\u001b[0m \u001b[0merr\u001b[0m\u001b[0;34m:\u001b[0m\u001b[0;34m\u001b[0m\u001b[0;34m\u001b[0m\u001b[0m\n",
            "\u001b[0;32m/usr/local/lib/python3.9/dist-packages/tensorflow/python/saved_model/load.py\u001b[0m in \u001b[0;36m__init__\u001b[0;34m(self, object_graph_proto, saved_model_proto, export_dir, ckpt_options, save_options, filters)\u001b[0m\n\u001b[1;32m    155\u001b[0m     \u001b[0mself\u001b[0m\u001b[0;34m.\u001b[0m\u001b[0m_export_dir\u001b[0m \u001b[0;34m=\u001b[0m \u001b[0mexport_dir\u001b[0m\u001b[0;34m\u001b[0m\u001b[0;34m\u001b[0m\u001b[0m\n\u001b[1;32m    156\u001b[0m     self._concrete_functions = (\n\u001b[0;32m--> 157\u001b[0;31m         function_deserialization.load_function_def_library(\n\u001b[0m\u001b[1;32m    158\u001b[0m             \u001b[0mlibrary\u001b[0m\u001b[0;34m=\u001b[0m\u001b[0mmeta_graph\u001b[0m\u001b[0;34m.\u001b[0m\u001b[0mgraph_def\u001b[0m\u001b[0;34m.\u001b[0m\u001b[0mlibrary\u001b[0m\u001b[0;34m,\u001b[0m\u001b[0;34m\u001b[0m\u001b[0;34m\u001b[0m\u001b[0m\n\u001b[1;32m    159\u001b[0m             \u001b[0msaved_object_graph\u001b[0m\u001b[0;34m=\u001b[0m\u001b[0mself\u001b[0m\u001b[0;34m.\u001b[0m\u001b[0m_proto\u001b[0m\u001b[0;34m,\u001b[0m\u001b[0;34m\u001b[0m\u001b[0;34m\u001b[0m\u001b[0m\n",
            "\u001b[0;32m/usr/local/lib/python3.9/dist-packages/tensorflow/python/saved_model/function_deserialization.py\u001b[0m in \u001b[0;36mload_function_def_library\u001b[0;34m(library, saved_object_graph, load_shared_name_suffix, wrapper_function)\u001b[0m\n\u001b[1;32m    414\u001b[0m     \u001b[0;31m# import).\u001b[0m\u001b[0;34m\u001b[0m\u001b[0;34m\u001b[0m\u001b[0m\n\u001b[1;32m    415\u001b[0m     \u001b[0;32mwith\u001b[0m \u001b[0mgraph\u001b[0m\u001b[0;34m.\u001b[0m\u001b[0mas_default\u001b[0m\u001b[0;34m(\u001b[0m\u001b[0;34m)\u001b[0m\u001b[0;34m:\u001b[0m\u001b[0;34m\u001b[0m\u001b[0;34m\u001b[0m\u001b[0m\n\u001b[0;32m--> 416\u001b[0;31m       func_graph = function_def_lib.function_def_to_graph(\n\u001b[0m\u001b[1;32m    417\u001b[0m           \u001b[0mfdef\u001b[0m\u001b[0;34m,\u001b[0m\u001b[0;34m\u001b[0m\u001b[0;34m\u001b[0m\u001b[0m\n\u001b[1;32m    418\u001b[0m           \u001b[0mstructured_input_signature\u001b[0m\u001b[0;34m=\u001b[0m\u001b[0mstructured_input_signature\u001b[0m\u001b[0;34m,\u001b[0m\u001b[0;34m\u001b[0m\u001b[0;34m\u001b[0m\u001b[0m\n",
            "\u001b[0;32m/usr/local/lib/python3.9/dist-packages/tensorflow/python/framework/function_def_to_graph.py\u001b[0m in \u001b[0;36mfunction_def_to_graph\u001b[0;34m(fdef, structured_input_signature, structured_outputs, input_shapes, propagate_device_spec)\u001b[0m\n\u001b[1;32m    114\u001b[0m     ]\n\u001b[1;32m    115\u001b[0m \u001b[0;34m\u001b[0m\u001b[0m\n\u001b[0;32m--> 116\u001b[0;31m     \u001b[0m_set_handle_data\u001b[0m\u001b[0;34m(\u001b[0m\u001b[0mfunc_graph\u001b[0m\u001b[0;34m,\u001b[0m \u001b[0mfdef\u001b[0m\u001b[0;34m)\u001b[0m\u001b[0;34m\u001b[0m\u001b[0;34m\u001b[0m\u001b[0m\n\u001b[0m\u001b[1;32m    117\u001b[0m \u001b[0;34m\u001b[0m\u001b[0m\n\u001b[1;32m    118\u001b[0m     \u001b[0;32mfor\u001b[0m \u001b[0mnode\u001b[0m \u001b[0;32min\u001b[0m \u001b[0mgraph_def\u001b[0m\u001b[0;34m.\u001b[0m\u001b[0mnode\u001b[0m\u001b[0;34m:\u001b[0m\u001b[0;34m\u001b[0m\u001b[0;34m\u001b[0m\u001b[0m\n",
            "\u001b[0;32m/usr/local/lib/python3.9/dist-packages/tensorflow/python/framework/function_def_to_graph.py\u001b[0m in \u001b[0;36m_set_handle_data\u001b[0;34m(func_graph, fdef)\u001b[0m\n\u001b[1;32m    311\u001b[0m   \u001b[0;31m# saved in `handle_data`. Previously, the shape of the resource handle\u001b[0m\u001b[0;34m\u001b[0m\u001b[0;34m\u001b[0m\u001b[0m\n\u001b[1;32m    312\u001b[0m   \u001b[0;31m# was set to `None`. Correct both shapes here.\u001b[0m\u001b[0;34m\u001b[0m\u001b[0;34m\u001b[0m\u001b[0m\n\u001b[0;32m--> 313\u001b[0;31m   for tensor, arg_def in itertools.chain(\n\u001b[0m\u001b[1;32m    314\u001b[0m       \u001b[0mzip\u001b[0m\u001b[0;34m(\u001b[0m\u001b[0mfunc_graph\u001b[0m\u001b[0;34m.\u001b[0m\u001b[0minputs\u001b[0m\u001b[0;34m,\u001b[0m \u001b[0mfdef\u001b[0m\u001b[0;34m.\u001b[0m\u001b[0msignature\u001b[0m\u001b[0;34m.\u001b[0m\u001b[0minput_arg\u001b[0m\u001b[0;34m)\u001b[0m\u001b[0;34m,\u001b[0m\u001b[0;34m\u001b[0m\u001b[0;34m\u001b[0m\u001b[0m\n\u001b[1;32m    315\u001b[0m       zip(func_graph.outputs, fdef.signature.output_arg)):\n",
            "\u001b[0;31mKeyboardInterrupt\u001b[0m: "
          ]
        }
      ]
    },
    {
      "cell_type": "code",
      "source": [
        "new_model = tf.keras.models.load_model('/content/drive/MyDrive/Music Instrument/IndianInst.pb')\n",
        "\n",
        "# Show the model architecture\n",
        "new_model.summary()"
      ],
      "metadata": {
        "id": "23f0CSVxfNms",
        "colab": {
          "base_uri": "https://localhost:8080/"
        },
        "outputId": "45a14069-d64e-4dfd-e75c-a4641323b1dc"
      },
      "execution_count": null,
      "outputs": [
        {
          "output_type": "stream",
          "name": "stdout",
          "text": [
            "Model: \"sequential\"\n",
            "_________________________________________________________________\n",
            " Layer (type)                Output Shape              Param #   \n",
            "=================================================================\n",
            " lstm (LSTM)                 (None, 130, 64)           26880     \n",
            "                                                                 \n",
            " lstm_1 (LSTM)               (None, 64)                33024     \n",
            "                                                                 \n",
            " dense (Dense)               (None, 64)                4160      \n",
            "                                                                 \n",
            " dropout (Dropout)           (None, 64)                0         \n",
            "                                                                 \n",
            " dense_1 (Dense)             (None, 10)                650       \n",
            "                                                                 \n",
            "=================================================================\n",
            "Total params: 64,714\n",
            "Trainable params: 64,714\n",
            "Non-trainable params: 0\n",
            "_________________________________________________________________\n"
          ]
        }
      ]
    },
    {
      "cell_type": "code",
      "source": [
        "import librosa\n",
        "import matplotlib.pyplot as plt\n",
        "%matplotlib inline\n",
        "from keras.models import Sequential\n",
        "from keras.layers import Dense, Dropout, LSTM\n",
        "from keras.optimizers import Adam\n",
        "from keras.callbacks import EarlyStopping\n",
        "import numpy as np\n",
        "import librosa\n",
        "from tensorflow.keras.utils import to_categorical\n",
        "from sklearn.preprocessing import LabelEncoder\n",
        "labelencoder=LabelEncoder()"
      ],
      "metadata": {
        "id": "ej8j3OBK61H5"
      },
      "execution_count": null,
      "outputs": []
    },
    {
      "cell_type": "code",
      "source": [
        "num_segments=5\n",
        "SAMPLE_RATE = 22050\n",
        "TRACK_DURATION = 30 # measured in seconds\n",
        "SAMPLES_PER_TRACK = SAMPLE_RATE * TRACK_DURATION"
      ],
      "metadata": {
        "id": "Y32mfpfPbS8o"
      },
      "execution_count": null,
      "outputs": []
    },
    {
      "cell_type": "code",
      "source": [
        "samples_per_segment = int(SAMPLES_PER_TRACK / num_segments)"
      ],
      "metadata": {
        "id": "xdlxrG7IbKa5"
      },
      "execution_count": null,
      "outputs": []
    },
    {
      "cell_type": "code",
      "source": [
        "from tensorflow.keras.preprocessing.sequence import pad_sequences"
      ],
      "metadata": {
        "id": "l8IrdoNNh-SK"
      },
      "execution_count": null,
      "outputs": []
    },
    {
      "cell_type": "code",
      "source": [
        "import keras\n",
        "from keras.models import load_model\n",
        "import numpy as np\n",
        "\n",
        "import librosa\n",
        "\n",
        "audio_file = '/content/drive/MyDrive/Music Instrument/Indian Music Inst/Harmonium/Madhya_Teentaal_Lehra_Kirwani_C%23_Live_Harmonium_80bpm_108_cycles.m4a'\n",
        "\n",
        "audio_file, sr = librosa.load(audio_file)\n",
        "\n",
        "mfcc=librosa.feature.mfcc(y=audio_file, sr=SAMPLE_RATE, n_mfcc=40)\n",
        "mfcc = mfcc.T\n",
        "\n",
        "data_processed =mfcc\n",
        "\n",
        "data_processed = np.expand_dims(data_processed, axis=0)\n",
        "data_padded = pad_sequences(data_processed, maxlen=130, padding='post', truncating='post')\n",
        "prediction = model.predict(data_padded)\n",
        "\n",
        "\n",
        "class_labels = ['0 Harmonium', '1 Tabla', '2 Sitar', '3 Flute', '4 Dhol Tasha', '5 BG Noise']\n",
        "class_idx = np.argmax(prediction, axis=1)[0]\n",
        "print(class_idx)\n",
        "class_label = class_labels[class_idx]\n",
        "\n",
        "print(f'Predicted genre: {class_label}')"
      ],
      "metadata": {
        "id": "NEKdhLy57Qv3",
        "colab": {
          "base_uri": "https://localhost:8080/"
        },
        "outputId": "a3437fa4-c196-4baf-df53-fb6ecc92ec1a"
      },
      "execution_count": null,
      "outputs": [
        {
          "output_type": "stream",
          "name": "stderr",
          "text": [
            "<ipython-input-19-22934b4907cf>:14: UserWarning: PySoundFile failed. Trying audioread instead.\n",
            "  audio_file, sr = librosa.load(audio_file)\n",
            "/usr/local/lib/python3.9/dist-packages/librosa/core/audio.py:184: FutureWarning: librosa.core.audio.__audioread_load\n",
            "\tDeprecated as of librosa version 0.10.0.\n",
            "\tIt will be removed in librosa version 1.0.\n",
            "  y, sr_native = __audioread_load(path, offset, duration, dtype)\n"
          ]
        },
        {
          "output_type": "stream",
          "name": "stdout",
          "text": [
            "1/1 [==============================] - 0s 32ms/step\n",
            "0\n",
            "Predicted genre: 0 Harmonium\n"
          ]
        }
      ]
    },
    {
      "cell_type": "code",
      "source": [],
      "metadata": {
        "id": "Zv9tvnwsnGyb"
      },
      "execution_count": null,
      "outputs": []
    }
  ]
}